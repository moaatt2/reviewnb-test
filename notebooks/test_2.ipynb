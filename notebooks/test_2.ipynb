{
 "cells": [
  {
   "attachments": {},
   "cell_type": "markdown",
   "metadata": {},
   "source": [
    "# Test Notebook 2\n",
    "\n",
    "The purpose of this notebook is to show how reviewnb makes working with jupyter notebook diffs much easier."
   ]
  },
  {
   "cell_type": "code",
   "execution_count": 2,
   "metadata": {},
   "outputs": [
    {
     "name": "stdout",
     "output_type": "stream",
     "text": [
      "Hello Anthony.\n"
     ]
    }
   ],
   "source": [
    "\n",
    "print('Hello Anthony.')\n"
   ]
  }
 ],
 "metadata": {
  "kernelspec": {
   "display_name": "Python 3",
   "language": "python",
   "name": "python3"
  },
  "language_info": {
   "codemirror_mode": {
    "name": "ipython",
    "version": 3
   },
   "file_extension": ".py",
   "mimetype": "text/x-python",
   "name": "python",
   "nbconvert_exporter": "python",
   "pygments_lexer": "ipython3",
   "version": "3.8.10"
  },
  "orig_nbformat": 4,
  "vscode": {
   "interpreter": {
    "hash": "8e27408178d32d44d44a14bbb6b3bf7ff449c474bbce77af761479aec88b3372"
   }
  }
 },
 "nbformat": 4,
 "nbformat_minor": 2
}
